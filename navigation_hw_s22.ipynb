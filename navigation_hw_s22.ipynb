{
  "cells": [
    {
      "cell_type": "markdown",
      "metadata": {
        "id": "tLwvqtsxYuDl"
      },
      "source": [
        "# Navigation"
      ]
    },
    {
      "cell_type": "markdown",
      "metadata": {
        "id": "W1MvViuMYuDm"
      },
      "source": [
        "So far you have learned how some planning algorithms work. ROS implements some of these algorithms, so we do not have to worry about implementing them from scratch. But where is the fun in that, so let's go through some of the algorithms, and understand what would be the steps to implement a planning algorithm on a \"real environment\".\n",
        "\n",
        "The following notebook is aimed explain:\n",
        "1. The reading process of the *.pgm files generated during the mapping stage in ROS.\n",
        "2. The concept of Node, Tree and how that is related to the the planning algorithms.\n",
        "3. The implementation fo the planning algorithms\n",
        "\n",
        "## Map Loading\n",
        "In order to create a plan (at least a global one), it is necessary to have a map to work on. For that, we will make use of the map we obtained during the navigation course. We can use the information in the pgm and yaml files as follows:"
      ]
    },
    {
      "cell_type": "code",
      "execution_count": null,
      "metadata": {
        "id": "73E60_aMYuDn"
      },
      "outputs": [],
      "source": [
        "from PIL import Image, ImageOps \n",
        "\n",
        "import numpy as np\n",
        "import matplotlib.pyplot as plt\n",
        "import matplotlib.cm as cm\n",
        "\n",
        "\n",
        "import yaml\n",
        "import pandas as pd\n",
        "\n",
        "from copy import copy, deepcopy\n",
        "import time\n",
        "\n",
        "class Map():\n",
        "    def __init__(self, map_name):\n",
        "        self.map_im, self.map_df, self.limits = self.__open_map(map_name)\n",
        "        self.image_array = self.__get_obstacle_map(self.map_im, self.map_df)\n",
        "    \n",
        "    def __repr__(self):\n",
        "        fig, ax = plt.subplots(dpi=150)\n",
        "        ax.imshow(self.image_array,extent=self.limits, cmap=cm.gray)\n",
        "        ax.plot()\n",
        "        return \"\"\n",
        "        \n",
        "    def __open_map(self,map_name):\n",
        "        # Open the YAML file which contains the map name and other\n",
        "        # configuration parameters\n",
        "        f = open(map_name + '.yaml', 'r')\n",
        "        map_df = pd.json_normalize(yaml.safe_load(f))\n",
        "        # Open the map image\n",
        "        map_name = map_df.image[0]\n",
        "        im = Image.open(map_name)\n",
        "        size = 200, 200\n",
        "        im.thumbnail(size)\n",
        "        im = ImageOps.grayscale(im)\n",
        "        # Get the limits of the map. This will help to display the map\n",
        "        # with the correct axis ticks.\n",
        "        xmin = map_df.origin[0][0]\n",
        "        xmax = map_df.origin[0][0] + im.size[0] * map_df.resolution[0]\n",
        "        ymin = map_df.origin[0][1]\n",
        "        ymax = map_df.origin[0][1] + im.size[1] * map_df.resolution[0]\n",
        "\n",
        "        return im, map_df, [xmin,xmax,ymin,ymax]\n",
        "\n",
        "    def __get_obstacle_map(self,map_im, map_df):\n",
        "        img_array = np.reshape(list(self.map_im.getdata()),(self.map_im.size[1],self.map_im.size[0]))\n",
        "        up_thresh = self.map_df.occupied_thresh[0]*255\n",
        "        low_thresh = self.map_df.free_thresh[0]*255\n",
        "\n",
        "        for j in range(self.map_im.size[0]):\n",
        "            for i in range(self.map_im.size[1]):\n",
        "                if img_array[i,j] > up_thresh:\n",
        "                    img_array[i,j] = 255\n",
        "                else:\n",
        "                    img_array[i,j] = 0\n",
        "        return img_array\n",
        "\n",
        "\n",
        "print(Map('my_map'))"
      ]
    },
    {
      "cell_type": "markdown",
      "metadata": {
        "id": "nI4FI0XtYuDp"
      },
      "source": [
        "## Graph Representation and Map Conversion\n",
        "In order to make use of any of the path planning algorithms, it is important to convert the obtained map into a more useful notation. In general, the path planning algorithms work on the basis of a data structure called Graph. A graph is an abstract data type that consists of a finite set of vertices (nodes) and edges that connects them. The edges can have or not direction, which makes the graph directed or undirected respectively. Additionally, it is common to see values associated to the edges, which brings the concept of \"cost\" or \"weight\" to the graph. \n",
        "\n",
        "The main objective is then to implement a processing tool capable of converting the image map representation into a graph, and then solve the planning problem from the map graph representation."
      ]
    },
    {
      "cell_type": "markdown",
      "metadata": {
        "id": "-dCgVsuEYuDq"
      },
      "source": [
        "### Node/Tree Visualization\n",
        "A useful tool for graph visualization is Graphviz, which can be used through the ``` edge ``` and ``` node ``` APIs to create a graph structure as the one shown below."
      ]
    },
    {
      "cell_type": "code",
      "execution_count": null,
      "metadata": {
        "id": "yiAAPWauYuDr"
      },
      "outputs": [],
      "source": [
        "from graphviz import Graph\n",
        "g = Graph('G')\n",
        "\n",
        "g.node('a','a',style='filled')\n",
        "g.node('b','b')\n",
        "g.node('c','c')\n",
        "g.node('d','d')\n",
        "g.node('e','e')\n",
        "\n",
        "g.edge('a','b',shape='none')\n",
        "g.edge('a','c')\n",
        "g.edge('c','d')\n",
        "g.edge('c','e')\n",
        "\n",
        "g"
      ]
    },
    {
      "cell_type": "code",
      "execution_count": null,
      "metadata": {
        "id": "SWFPXm-mYuDs"
      },
      "outputs": [],
      "source": [
        "class Queue():\n",
        "    def __init__(self, init_queue = []):\n",
        "        self.queue = copy(init_queue)\n",
        "        self.start = 0\n",
        "        self.end = len(self.queue)-1\n",
        "    \n",
        "    def __len__(self):\n",
        "        numel = len(self.queue)\n",
        "        return numel\n",
        "    \n",
        "    def __repr__(self):\n",
        "        q = self.queue\n",
        "        tmpstr = \"\"\n",
        "        for i in range(len(self.queue)):\n",
        "            flag = False\n",
        "            if(i == self.start):\n",
        "                tmpstr += \"<\"\n",
        "                flag = True\n",
        "            if(i == self.end):\n",
        "                tmpstr += \">\"\n",
        "                flag = True\n",
        "            \n",
        "            if(flag):\n",
        "                tmpstr += '| ' + str(q[i]) + '|\\n'\n",
        "            else:\n",
        "                tmpstr += ' | ' + str(q[i]) + '|\\n'\n",
        "            \n",
        "        return tmpstr\n",
        "    \n",
        "    def __call__(self):\n",
        "        return self.queue\n",
        "    \n",
        "    def initialize_queue(self,init_queue = []):\n",
        "        self.queue = copy(init_queue)\n",
        "    \n",
        "    def sort(self,key=str.lower):\n",
        "        self.queue = sorted(self.queue,key=key)\n",
        "        \n",
        "    def push(self,data):\n",
        "        self.queue.append(data)\n",
        "        self.end += 1\n",
        "    \n",
        "    def pop(self):\n",
        "        p = self.queue.pop(self.start)\n",
        "        self.end = len(self.queue)-1\n",
        "        return p\n",
        "    \n",
        "class Node():\n",
        "    def __init__(self,name):\n",
        "        self.name = name\n",
        "        self.children = []\n",
        "        self.weight = []\n",
        "        \n",
        "    def __repr__(self):\n",
        "        return self.name\n",
        "        \n",
        "    def add_children(self,node,w=None):\n",
        "        if w == None:\n",
        "            w = [1]*len(node)\n",
        "        self.children.extend(node)\n",
        "        self.weight.extend(w)\n",
        "    \n",
        "class Tree():\n",
        "    def __init__(self,name):\n",
        "        self.name = name\n",
        "        self.root = 0\n",
        "        self.end = 0\n",
        "        self.g = {}\n",
        "        self.g_visual = Graph('G')\n",
        "    \n",
        "    def __call__(self):\n",
        "        for name,node in self.g.items():\n",
        "            if(self.root == name):\n",
        "                self.g_visual.node(name,name,color='red')\n",
        "            elif(self.end == name):\n",
        "                self.g_visual.node(name,name,color='blue')\n",
        "            else:\n",
        "                self.g_visual.node(name,name)\n",
        "            for i in range(len(node.children)):\n",
        "                c = node.children[i]\n",
        "                w = node.weight[i]\n",
        "                #print('%s -> %s'%(name,c.name))\n",
        "                if w == 0:\n",
        "                    self.g_visual.edge(name,c.name)\n",
        "                else:\n",
        "                    self.g_visual.edge(name,c.name,label=str(w))\n",
        "        return self.g_visual\n",
        "    \n",
        "    def add_node(self, node, start = False, end = False):\n",
        "        self.g[node.name] = node\n",
        "        if(start):\n",
        "            self.root = node.name\n",
        "        elif(end):\n",
        "            self.end = node.name\n",
        "            \n",
        "    def set_as_root(self,node):\n",
        "        # These are exclusive conditions\n",
        "        self.root = True\n",
        "        self.end = False\n",
        "    \n",
        "    def set_as_end(self,node):\n",
        "        # These are exclusive conditions\n",
        "        self.root = False\n",
        "        self.end = True   \n",
        "        "
      ]
    },
    {
      "cell_type": "code",
      "execution_count": null,
      "metadata": {
        "id": "SLo1VNuEYuDt"
      },
      "outputs": [],
      "source": [
        "a = Node('a')\n",
        "b = Node('b')\n",
        "c = Node('c')\n",
        "d = Node('d')\n",
        "e = Node('e')\n",
        "f = Node('f')\n",
        "\n",
        "a.add_children([c],[1])\n",
        "b.add_children([c,e],[1,1])\n",
        "c.add_children([b,e,d],[1,3,1])\n",
        "e.add_children([b,c],[1,3])\n",
        "d.add_children([c],[1])\n",
        "\n",
        "tree = Tree('tree')\n",
        "tree.add_node(a,start=True)\n",
        "tree.add_node(b)\n",
        "tree.add_node(c)\n",
        "tree.add_node(d)\n",
        "tree.add_node(e,end=True)\n",
        "tree.add_node(f)"
      ]
    },
    {
      "cell_type": "code",
      "execution_count": null,
      "metadata": {
        "id": "Xi_4Xl7-YuDt"
      },
      "outputs": [],
      "source": [
        "tree()"
      ]
    },
    {
      "cell_type": "markdown",
      "metadata": {
        "id": "vUlJhe4AYuDu"
      },
      "source": [
        "## Breadth First Search Algorithm"
      ]
    },
    {
      "cell_type": "markdown",
      "metadata": {
        "id": "DXcI1i9bYuDv"
      },
      "source": [
        "The breadth first search goes through the nodes in an unweighted graph and keeps a queue of the visited and unvisited nodes. For that, BFS checks the child nodes at every iteration and adds them to the queue, if a particular child node was already in the queue, it just skips to the next. At the end of the iteration, the parent node is marked as visited and it goes to the next entry in the queue. In the graph above, if we consider the node 'a' as the start node, then the queue would look like this after the first iteration.<br><br>\n",
        "**1st iteration**\n",
        "```\n",
        "c\n",
        "a <- visited\n",
        "```\n",
        "**2nd iteration**\n",
        "```\n",
        "d\n",
        "e\n",
        "b\n",
        "c <- visited\n",
        "a <- visited\n",
        "```\n",
        "**3rd iteration**\n",
        "```\n",
        "d\n",
        "e\n",
        "b <- visited\n",
        "c <- visited\n",
        "a <- visited\n",
        "```"
      ]
    },
    {
      "cell_type": "code",
      "execution_count": null,
      "metadata": {
        "id": "NT-iOOCMYuDv"
      },
      "outputs": [],
      "source": [
        "class BFS():\n",
        "    def __init__(self,tree):\n",
        "        self.q = Queue()\n",
        "        self.visited = {name:False for name,node in tree.g.items()}\n",
        "        self.via = {name:0 for name,node in tree.g.items()}\n",
        "        self.dist = {name:0 for name,node in tree.g.items()}\n",
        "        \n",
        "    def solve(self,sn):\n",
        "        self.q.push(sn)\n",
        "        self.visited[sn.name] = True\n",
        "        while len(self.q) > 0:\n",
        "            node = self.q.pop()\n",
        "            for i in range(len(node.children)):\n",
        "                c = node.children[i]\n",
        "                w = node.weight[i]\n",
        "                if self.visited[c.name] == False:\n",
        "                    self.q.push(c)\n",
        "                    self.visited[c.name] = True\n",
        "                    self.via[c.name] = node.name\n",
        "                    self.dist[c.name] = self.dist[node.name] + w\n",
        "            #print(node.name,self.q.queue)\n",
        "            #print(self.dist)\n",
        "        return self.via\n",
        "    \n",
        "    def reconstruct_path(self,sn=0,en=0):\n",
        "        path = []\n",
        "        node = en.name\n",
        "        path.append(node)\n",
        "        dist = self.dist[en.name]\n",
        "        while True:\n",
        "            node = self.via[node]\n",
        "            if node == 0:\n",
        "                break\n",
        "            else:\n",
        "                path.append(node)\n",
        "        path.reverse()\n",
        "        if path[0] != sn.name:\n",
        "            path = []\n",
        "        return path,dist         \n",
        "        "
      ]
    },
    {
      "cell_type": "code",
      "execution_count": null,
      "metadata": {
        "id": "Fp1g3jCyYuDw"
      },
      "outputs": [],
      "source": [
        "bfs = BFS(tree)\n",
        "bfs.solve(tree.g[tree.root])\n",
        "path,dist = bfs.reconstruct_path(tree.g[tree.root],tree.g[tree.end])\n",
        "print(path)\n",
        "print(dist)"
      ]
    },
    {
      "cell_type": "markdown",
      "metadata": {
        "id": "1uW3GkBWYuDw"
      },
      "source": [
        "## Dijkstra's Algorithm"
      ]
    },
    {
      "cell_type": "markdown",
      "metadata": {
        "id": "5aq29iiCYuDw"
      },
      "source": [
        "Dijkstra's finds the shortest path between two points given a weighted graph. Unlike BFS, Dijkstra's algorithm takes into consideration how difficult is to get from one node to another. Once we pass the graph and the start point to the algorithm it will build a data structure, where we can find the shortest path from the given start point to any other node in the graph (if they are connected). If we only require to find the path to one end point, then the algorithm can be shortened to break once that end point is found.\n",
        "\n",
        "The key difference of this algorithms lies on the ``` dist ``` and ``` via ``` lists, which give the ability to propritize the search of the shortest path. This also has the disadvantage that, if no other information is given, the algorithm will start looking for the shortest edges, regardless of where the target/end node is."
      ]
    },
    {
      "cell_type": "code",
      "execution_count": null,
      "metadata": {
        "id": "5wJyINOhYuDx"
      },
      "outputs": [],
      "source": [
        "a = Node('a')\n",
        "b = Node('b')\n",
        "c = Node('c')\n",
        "d = Node('d')\n",
        "e = Node('e')\n",
        "f = Node('f')\n",
        "\n",
        "a.add_children([c],[1])\n",
        "b.add_children([c,e],[1,1])\n",
        "c.add_children([b,e,d],[1,3,1])\n",
        "e.add_children([b,c],[1,3])\n",
        "d.add_children([c],[1])\n",
        "\n",
        "tree = Tree('tree1')\n",
        "tree.add_node(a,start=True)\n",
        "tree.add_node(b)\n",
        "tree.add_node(c)\n",
        "tree.add_node(d)\n",
        "tree.add_node(e,end=True)\n",
        "tree.add_node(f)"
      ]
    },
    {
      "cell_type": "code",
      "execution_count": null,
      "metadata": {
        "id": "2MDhjJV0YuDx"
      },
      "outputs": [],
      "source": [
        "tree()"
      ]
    },
    {
      "cell_type": "code",
      "execution_count": null,
      "metadata": {
        "id": "Gs8rPRcuYuDy"
      },
      "outputs": [],
      "source": [
        "class Dijkstra():\n",
        "    def __init__(self,in_tree):\n",
        "        self.q = Queue()\n",
        "        self.dist = {name:np.Inf for name,node in in_tree.g.items()}\n",
        "        self.via = {name:0 for name,node in in_tree.g.items()}\n",
        "        self.visited = {name:False for name,node in in_tree.g.items()}\n",
        "        for __,node in in_tree.g.items():\n",
        "            self.q.push(node)        \n",
        "    \n",
        "    def __get_dist_to_node(self,node):\n",
        "        return self.dist[node.name]\n",
        "    \n",
        "    def solve(self, sn, en):\n",
        "        self.dist[sn.name] = 0\n",
        "        while len(self.q) > 0:\n",
        "            self.q.sort(key=self.__get_dist_to_node)\n",
        "            u = self.q.pop()\n",
        "            #print(u.name,self.q.queue)\n",
        "            if u.name == en.name:\n",
        "                break\n",
        "            for i in range(len(u.children)):\n",
        "                c = u.children[i]\n",
        "                w = u.weight[i]\n",
        "                new_dist = self.dist[u.name] + w\n",
        "                if new_dist < self.dist[c.name]:\n",
        "                    self.dist[c.name] = new_dist\n",
        "                    self.via[c.name] = u.name\n",
        "            \n",
        "    \n",
        "    def reconstruct_path(self,sn,en):\n",
        "        start_key = sn.name\n",
        "        end_key = en.name\n",
        "        dist = self.dist[end_key]\n",
        "        u = end_key\n",
        "        path = [u]\n",
        "        while u != start_key:\n",
        "            u = self.via[u]\n",
        "            path.append(u)\n",
        "        path.reverse()\n",
        "        return path,dist\n",
        "        "
      ]
    },
    {
      "cell_type": "code",
      "execution_count": null,
      "metadata": {
        "id": "3cKGtlRAYuDy"
      },
      "outputs": [],
      "source": [
        "dj = Dijkstra(tree)\n",
        "dj.solve(tree.g[tree.root],tree.g[tree.end])\n",
        "dj.reconstruct_path(tree.g[tree.root],tree.g[tree.end])"
      ]
    },
    {
      "cell_type": "markdown",
      "metadata": {
        "id": "B_E4QvUPYuDy"
      },
      "source": [
        "## A* Algorithm\n",
        "A* can be seen as an extension of Dijkstra's algorithm. While Dijkstra's fails to do a \"smart\" search, A* introduces an heuristic function $h$ to provide more information to the search process, which is aimed to improve the speed of Dijkstra's.\n",
        "In other words, the search queue in A* is prioritized based on a function $f(n)=g(n)+h(n)$, where $g(n)$ is the ``` dist ```\n",
        "vector containing the shortest distance up to the node $n$, while $h(n)$ is an heuristic that provides an idea of how \"good\" is to move to the node $n$ while searching for the path. Thus the score function $f$ weights not just how close is the node $n$ from the current node, but how \"good\" is to move towards that point, which at the end helps to proritize the paths that make more sense."
      ]
    },
    {
      "cell_type": "code",
      "execution_count": null,
      "metadata": {
        "id": "87E4_EsOYuDz"
      },
      "outputs": [],
      "source": [
        "class AStar():\n",
        "    def __init__(self,in_tree):\n",
        "        self.in_tree = in_tree\n",
        "        self.q = Queue()\n",
        "        self.dist = {name:np.Inf for name,node in in_tree.g.items()}\n",
        "        self.h = {name:0 for name,node in in_tree.g.items()}\n",
        "        \n",
        "        for name,node in in_tree.g.items():\n",
        "            start = tuple(map(int, name.split(',')))\n",
        "            end = tuple(map(int, self.in_tree.end.split(',')))\n",
        "            self.h[name] = np.sqrt((end[0]-start[0])**2 + (end[1]-start[1])**2)\n",
        "        \n",
        "        self.via = {name:0 for name,node in in_tree.g.items()}\n",
        "        for __,node in in_tree.g.items():\n",
        "            self.q.push(node)\n",
        "     \n",
        "    def __get_f_score(self,node):\n",
        "        pass\n",
        "        # Place code here (remove the pass \n",
        "        # statement once you start coding)\n",
        "        # return self.dist[idx] + self.h[idx]\n",
        "    \n",
        "    def solve(self, sn, en):\n",
        "        pass\n",
        "        # Place code here (remove the pass \n",
        "        # statement once you start coding)\n",
        "    \n",
        "    def reconstruct_path(self,sn,en):\n",
        "        path = []\n",
        "        dist = 0\n",
        "        # Place code here\n",
        "        return path,dist"
      ]
    },
    {
      "cell_type": "markdown",
      "metadata": {
        "id": "sQY8iVUpYuDz"
      },
      "source": [
        "## Create A Graph From A Map"
      ]
    },
    {
      "cell_type": "code",
      "execution_count": null,
      "metadata": {
        "id": "N7chSbExYuDz"
      },
      "outputs": [],
      "source": [
        "class MapProcessor():\n",
        "    def __init__(self,name):\n",
        "        self.map = Map(name)\n",
        "        self.inf_map_img_array = np.zeros(self.map.image_array.shape)\n",
        "        self.map_graph = Tree(name)\n",
        "    \n",
        "    def __modify_map_pixel(self,map_array,i,j,value,absolute):\n",
        "        if( (i >= 0) and \n",
        "            (i < map_array.shape[0]) and \n",
        "            (j >= 0) and\n",
        "            (j < map_array.shape[1]) ):\n",
        "            if absolute:\n",
        "                map_array[i][j] = value\n",
        "            else:\n",
        "                map_array[i][j] += value \n",
        "    \n",
        "    def __inflate_obstacle(self,kernel,map_array,i,j,absolute):\n",
        "        dx = int(kernel.shape[0]//2)\n",
        "        dy = int(kernel.shape[1]//2)\n",
        "        if (dx == 0) and (dy == 0):\n",
        "            self.__modify_map_pixel(map_array,i,j,kernel[0][0],absolute)\n",
        "        else:\n",
        "            for k in range(i-dx,i+dx):\n",
        "                for l in range(j-dy,j+dy):\n",
        "                    self.__modify_map_pixel(map_array,k,l,kernel[k-i+dx][l-j+dy],absolute)\n",
        "        \n",
        "    def inflate_map(self,kernel,absolute=True):\n",
        "        # Perform an operation like dilation, such that the small wall found during the mapping process\n",
        "        # are increased in size, thus forcing a safer path.\n",
        "        self.inf_map_img_array = np.zeros(self.map.image_array.shape)\n",
        "        for i in range(self.map.image_array.shape[0]):\n",
        "            for j in range(self.map.image_array.shape[1]):\n",
        "                if self.map.image_array[i][j] == 0:\n",
        "                    self.__inflate_obstacle(kernel,self.inf_map_img_array,i,j,absolute)\n",
        "        r = np.max(self.inf_map_img_array)-np.min(self.inf_map_img_array)\n",
        "        if r == 0:\n",
        "            r = 1\n",
        "        self.inf_map_img_array = (self.inf_map_img_array - np.min(self.inf_map_img_array))/r\n",
        "                \n",
        "    def get_graph_from_map(self):\n",
        "        # Create the nodes that will be part of the graph, considering only valid nodes or the free space\n",
        "        for i in range(self.map.image_array.shape[0]):\n",
        "            for j in range(self.map.image_array.shape[1]):\n",
        "                if self.inf_map_img_array[i][j] == 0:\n",
        "                    node = Node('%d,%d'%(i,j))\n",
        "                    self.map_graph.add_node(node)\n",
        "        # Connect the nodes through edges\n",
        "        for i in range(self.map.image_array.shape[0]):\n",
        "            for j in range(self.map.image_array.shape[1]):\n",
        "                if self.inf_map_img_array[i][j] == 0:                    \n",
        "                    if (i > 0):\n",
        "                        if self.inf_map_img_array[i-1][j] == 0:\n",
        "                            # add an edge up\n",
        "                            child_up = self.map_graph.g['%d,%d'%(i-1,j)]\n",
        "                            self.map_graph.g['%d,%d'%(i,j)].add_children([child_up],[1])\n",
        "                    if (i < (self.map.image_array.shape[0] - 1)):\n",
        "                        if self.inf_map_img_array[i+1][j] == 0:\n",
        "                            # add an edge down\n",
        "                            child_dw = self.map_graph.g['%d,%d'%(i+1,j)]\n",
        "                            self.map_graph.g['%d,%d'%(i,j)].add_children([child_dw],[1])\n",
        "                    if (j > 0):\n",
        "                        if self.inf_map_img_array[i][j-1] == 0:\n",
        "                            # add an edge to the left\n",
        "                            child_lf = self.map_graph.g['%d,%d'%(i,j-1)]\n",
        "                            self.map_graph.g['%d,%d'%(i,j)].add_children([child_lf],[1])\n",
        "                    if (j < (self.map.image_array.shape[1] - 1)):\n",
        "                        if self.inf_map_img_array[i][j+1] == 0:\n",
        "                            # add an edge to the right\n",
        "                            child_rg = self.map_graph.g['%d,%d'%(i,j+1)]\n",
        "                            self.map_graph.g['%d,%d'%(i,j)].add_children([child_rg],[1])\n",
        "                    if ((i > 0) and (j > 0)):\n",
        "                        if self.inf_map_img_array[i-1][j-1] == 0:\n",
        "                            # add an edge up-left \n",
        "                            child_up_lf = self.map_graph.g['%d,%d'%(i-1,j-1)]\n",
        "                            self.map_graph.g['%d,%d'%(i,j)].add_children([child_up_lf],[np.sqrt(2)])\n",
        "                    if ((i > 0) and (j < (self.map.image_array.shape[1] - 1))):\n",
        "                        if self.inf_map_img_array[i-1][j+1] == 0:\n",
        "                            # add an edge up-right\n",
        "                            child_up_rg = self.map_graph.g['%d,%d'%(i-1,j+1)]\n",
        "                            self.map_graph.g['%d,%d'%(i,j)].add_children([child_up_rg],[np.sqrt(2)])\n",
        "                    if ((i < (self.map.image_array.shape[0] - 1)) and (j > 0)):\n",
        "                        if self.inf_map_img_array[i+1][j-1] == 0:\n",
        "                            # add an edge down-left \n",
        "                            child_dw_lf = self.map_graph.g['%d,%d'%(i+1,j-1)]\n",
        "                            self.map_graph.g['%d,%d'%(i,j)].add_children([child_dw_lf],[np.sqrt(2)])\n",
        "                    if ((i < (self.map.image_array.shape[0] - 1)) and (j < (self.map.image_array.shape[1] - 1))):\n",
        "                        if self.inf_map_img_array[i+1][j+1] == 0:\n",
        "                            # add an edge down-right\n",
        "                            child_dw_rg = self.map_graph.g['%d,%d'%(i+1,j+1)]\n",
        "                            self.map_graph.g['%d,%d'%(i,j)].add_children([child_dw_rg],[np.sqrt(2)])                    \n",
        "        \n",
        "    def gaussian_kernel(self, size, sigma=1):\n",
        "        size = int(size) // 2\n",
        "        x, y = np.mgrid[-size:size+1, -size:size+1]\n",
        "        normal = 1 / (2.0 * np.pi * sigma**2)\n",
        "        g =  np.exp(-((x**2 + y**2) / (2.0*sigma**2))) * normal\n",
        "        r = np.max(g)-np.min(g)\n",
        "        sm = (g - np.min(g))*1/r\n",
        "        return sm\n",
        "    \n",
        "    def rect_kernel(self, size, value):\n",
        "        m = np.ones(shape=(size,size))\n",
        "        return m\n",
        "    \n",
        "    def draw_path(self,path):\n",
        "        path_tuple_list = []\n",
        "        path_array = copy(self.inf_map_img_array)\n",
        "        for idx in path:\n",
        "            tup = tuple(map(int, idx.split(',')))\n",
        "            path_tuple_list.append(tup)\n",
        "            path_array[tup] = 0.5\n",
        "        return path_array"
      ]
    },
    {
      "cell_type": "code",
      "execution_count": null,
      "metadata": {
        "id": "nYAiXzy6YuD0"
      },
      "outputs": [],
      "source": [
        "mp = MapProcessor('my_map')"
      ]
    },
    {
      "cell_type": "code",
      "execution_count": null,
      "metadata": {
        "id": "2grYNIO1YuD0"
      },
      "outputs": [],
      "source": [
        "kr = mp.rect_kernel(5,1)\n",
        "#kr = mp.rect_kernel(1,1)\n",
        "mp.inflate_map(kr,True)\n",
        "\n",
        "mp.get_graph_from_map()\n",
        "\n",
        "fig, ax = plt.subplots(dpi=100)\n",
        "plt.imshow(mp.inf_map_img_array)\n",
        "plt.colorbar()\n",
        "plt.show()"
      ]
    },
    {
      "cell_type": "code",
      "execution_count": null,
      "metadata": {
        "id": "xrbBEjkSYuD1"
      },
      "outputs": [],
      "source": [
        "mp.map_graph.root = \"125,90\"\n",
        "mp.map_graph.end = \"80,113\"\n",
        "\n",
        "bfs_maze = BFS(mp.map_graph)\n",
        "\n",
        "start = time.time()\n",
        "bfs_maze.solve(mp.map_graph.g[mp.map_graph.root])\n",
        "end = time.time()\n",
        "print('Elapsed Time: %.3f'%(end - start))\n",
        "\n",
        "path_bfs,dist_bfs = bfs_maze.reconstruct_path(mp.map_graph.g[mp.map_graph.root],mp.map_graph.g[mp.map_graph.end])"
      ]
    },
    {
      "cell_type": "code",
      "execution_count": null,
      "metadata": {
        "id": "RVYUTfZQYuD1"
      },
      "outputs": [],
      "source": [
        "path_arr_bfs = mp.draw_path(path_bfs)"
      ]
    },
    {
      "cell_type": "code",
      "source": [
        "path_bfs"
      ],
      "metadata": {
        "id": "IOXVFwo49_6w"
      },
      "execution_count": null,
      "outputs": []
    },
    {
      "cell_type": "code",
      "execution_count": null,
      "metadata": {
        "id": "Mh-efvMyYuD1"
      },
      "outputs": [],
      "source": [
        "mp.map_graph.root = \"125,90\"\n",
        "mp.map_graph.end = \"80,113\"\n",
        "dj_maze = Dijkstra(mp.map_graph)\n",
        "\n",
        "start = time.time()\n",
        "dj_maze.solve(mp.map_graph.g[mp.map_graph.root],mp.map_graph.g[mp.map_graph.end])\n",
        "end = time.time()\n",
        "print('Elapsed Time: %.3f'%(end - start))\n",
        "\n",
        "path_djk,dist_djk = dj_maze.reconstruct_path(mp.map_graph.g[mp.map_graph.root],mp.map_graph.g[mp.map_graph.end])"
      ]
    },
    {
      "cell_type": "code",
      "execution_count": null,
      "metadata": {
        "id": "G5r-sX6oYuD2"
      },
      "outputs": [],
      "source": [
        "path_arr_djk = mp.draw_path(path_djk)"
      ]
    },
    {
      "cell_type": "code",
      "execution_count": null,
      "metadata": {
        "id": "2g3xBD_LYuD2"
      },
      "outputs": [],
      "source": [
        "mp.map_graph.root = \"125,90\"\n",
        "mp.map_graph.end = \"80,113\"\n",
        "\n",
        "as_maze = AStar(mp.map_graph)\n",
        "\n",
        "start = time.time()\n",
        "as_maze.solve(mp.map_graph.g[mp.map_graph.root],mp.map_graph.g[mp.map_graph.end])\n",
        "end = time.time()\n",
        "print('Elapsed Time: %.3f'%(end - start))\n",
        "\n",
        "path_as,dist_as = as_maze.reconstruct_path(mp.map_graph.g[mp.map_graph.root],mp.map_graph.g[mp.map_graph.end])"
      ]
    },
    {
      "cell_type": "code",
      "execution_count": null,
      "metadata": {
        "id": "Kmt2ZMcPYuD2"
      },
      "outputs": [],
      "source": [
        "path_arr_as = mp.draw_path(path_as)"
      ]
    },
    {
      "cell_type": "code",
      "execution_count": null,
      "metadata": {
        "id": "JX-zhFmHYuD3"
      },
      "outputs": [],
      "source": [
        "fig, ax = plt.subplots(nrows = 1, ncols = 3, dpi=300, sharex=True, sharey=True)\n",
        "ax[0].imshow(path_arr_bfs)\n",
        "ax[0].set_title('Path BFS')\n",
        "ax[1].imshow(path_arr_djk)\n",
        "ax[1].set_title('Path Dijkstra')\n",
        "ax[2].imshow(path_arr_as)\n",
        "ax[2].set_title('Path A*')\n",
        "\n",
        "plt.show()"
      ]
    },
    {
      "cell_type": "code",
      "execution_count": null,
      "metadata": {
        "id": "26tAkoU9YuD3"
      },
      "outputs": [],
      "source": [
        "print(dist_djk)\n",
        "print(dist_as)\n",
        "print(dist_bfs)"
      ]
    },
    {
      "cell_type": "code",
      "source": [
        ""
      ],
      "metadata": {
        "id": "WNddPcjrarGL"
      },
      "execution_count": null,
      "outputs": []
    }
  ],
  "metadata": {
    "kernelspec": {
      "display_name": "Python 3",
      "language": "python",
      "name": "python3"
    },
    "language_info": {
      "codemirror_mode": {
        "name": "ipython",
        "version": 3
      },
      "file_extension": ".py",
      "mimetype": "text/x-python",
      "name": "python",
      "nbconvert_exporter": "python",
      "pygments_lexer": "ipython3",
      "version": "3.8.0"
    },
    "colab": {
      "name": "navigation_hw.ipynb",
      "provenance": [],
      "collapsed_sections": []
    }
  },
  "nbformat": 4,
  "nbformat_minor": 0
}